{
 "cells": [
  {
   "cell_type": "code",
   "execution_count": 1,
   "metadata": {},
   "outputs": [
    {
     "name": "stdout",
     "output_type": "stream",
     "text": [
      "Populating the interactive namespace from numpy and matplotlib\n"
     ]
    }
   ],
   "source": [
    "%pylab inline"
   ]
  },
  {
   "cell_type": "code",
   "execution_count": 2,
   "metadata": {},
   "outputs": [],
   "source": [
    "%load_ext autoreload"
   ]
  },
  {
   "cell_type": "code",
   "execution_count": 3,
   "metadata": {},
   "outputs": [],
   "source": [
    "%autoreload 2"
   ]
  },
  {
   "cell_type": "code",
   "execution_count": 4,
   "metadata": {},
   "outputs": [],
   "source": [
    "import pandas as pd\n",
    "import matplotlib.pyplot as plt"
   ]
  },
  {
   "cell_type": "markdown",
   "metadata": {},
   "source": [
    "# Fixation probability"
   ]
  },
  {
   "cell_type": "code",
   "execution_count": 1,
   "metadata": {},
   "outputs": [],
   "source": [
    "from direct_method import fixation_probability_direct_method"
   ]
  },
  {
   "cell_type": "code",
   "execution_count": 2,
   "metadata": {},
   "outputs": [],
   "source": [
    "from simulation_when_to_stop import estimate_fixation_probability"
   ]
  },
  {
   "cell_type": "markdown",
   "metadata": {},
   "source": [
    "### beta = 1.0"
   ]
  },
  {
   "cell_type": "code",
   "execution_count": 4,
   "metadata": {},
   "outputs": [],
   "source": [
    "n_values = list(range(5, 31, 5))\n",
    "abs_error = []\n",
    "for n in n_values:\n",
    "    # dominance\n",
    "    sim_dom = estimate_fixation_probability(pop_size=n, beta=1.0, a=1.0, b=1.0, c=0.0, d=0.0, epsilon=0.01, delta=0.1, r_0=100)\n",
    "    direct_dom = fixation_probability_direct_method(pop_size=n, beta=1.0, a=1.0, b=1.0, c=0.0, d=0.0)\n",
    "    \n",
    "    #bistability\n",
    "    sim_bistab = estimate_fixation_probability(pop_size=n, beta=1.0, a=1.0, b=0.0, c=0.0, d=1.0, epsilon=0.01, delta=0.1, r_0=100)\n",
    "    direct_bistab = fixation_probability_direct_method(pop_size=n, beta=1.0, a=1.0, b=0.0, c=0.0, d=1.0)\n",
    "    \n",
    "    #coexistence\n",
    "    sim_coex = estimate_fixation_probability(pop_size=n, beta=1.0, a=0.0, b=1.0, c=1.0, d=0.0, epsilon=0.01, delta=0.1, r_0=100)\n",
    "    direct_coex = fixation_probability_direct_method(pop_size=n, beta=1.0, a=0.0, b=1.0, c=1.0, d=0.0)\n",
    "    \n",
    "    abs_error_dom = abs(sim_dom - direct_dom)\n",
    "    abs_error_bistab = abs(sim_bistab - direct_bistab)\n",
    "    abs_error_coex = abs(sim_coex - direct_coex)\n",
    "    \n",
    "    \n",
    "    abs_error.append({\"n\": n, \"dominance\": abs_error_dom, \"bistability\": abs_error_bistab, \"coexistence\": abs_error_coex})"
   ]
  },
  {
   "cell_type": "code",
   "execution_count": 10,
   "metadata": {},
   "outputs": [
    {
     "data": {
      "text/html": [
       "<div>\n",
       "<style scoped>\n",
       "    .dataframe tbody tr th:only-of-type {\n",
       "        vertical-align: middle;\n",
       "    }\n",
       "\n",
       "    .dataframe tbody tr th {\n",
       "        vertical-align: top;\n",
       "    }\n",
       "\n",
       "    .dataframe thead th {\n",
       "        text-align: right;\n",
       "    }\n",
       "</style>\n",
       "<table border=\"1\" class=\"dataframe\">\n",
       "  <thead>\n",
       "    <tr style=\"text-align: right;\">\n",
       "      <th></th>\n",
       "      <th>bistability</th>\n",
       "      <th>coexistence</th>\n",
       "      <th>dominance</th>\n",
       "    </tr>\n",
       "    <tr>\n",
       "      <th>n</th>\n",
       "      <th></th>\n",
       "      <th></th>\n",
       "      <th></th>\n",
       "    </tr>\n",
       "  </thead>\n",
       "  <tbody>\n",
       "    <tr>\n",
       "      <th>5</th>\n",
       "      <td>0.000514</td>\n",
       "      <td>0.003469</td>\n",
       "      <td>0.000563</td>\n",
       "    </tr>\n",
       "    <tr>\n",
       "      <th>10</th>\n",
       "      <td>0.000277</td>\n",
       "      <td>0.005175</td>\n",
       "      <td>0.000606</td>\n",
       "    </tr>\n",
       "    <tr>\n",
       "      <th>15</th>\n",
       "      <td>0.001989</td>\n",
       "      <td>0.003543</td>\n",
       "      <td>0.004886</td>\n",
       "    </tr>\n",
       "    <tr>\n",
       "      <th>20</th>\n",
       "      <td>0.000171</td>\n",
       "      <td>0.000818</td>\n",
       "      <td>0.000605</td>\n",
       "    </tr>\n",
       "    <tr>\n",
       "      <th>25</th>\n",
       "      <td>0.000137</td>\n",
       "      <td>0.005549</td>\n",
       "      <td>0.007627</td>\n",
       "    </tr>\n",
       "    <tr>\n",
       "      <th>30</th>\n",
       "      <td>0.000094</td>\n",
       "      <td>0.001557</td>\n",
       "      <td>0.004573</td>\n",
       "    </tr>\n",
       "  </tbody>\n",
       "</table>\n",
       "</div>"
      ],
      "text/plain": [
       "    bistability  coexistence  dominance\n",
       "n                                      \n",
       "5      0.000514     0.003469   0.000563\n",
       "10     0.000277     0.005175   0.000606\n",
       "15     0.001989     0.003543   0.004886\n",
       "20     0.000171     0.000818   0.000605\n",
       "25     0.000137     0.005549   0.007627\n",
       "30     0.000094     0.001557   0.004573"
      ]
     },
     "execution_count": 10,
     "metadata": {},
     "output_type": "execute_result"
    }
   ],
   "source": [
    "df = pd.DataFrame(abs_error)\n",
    "df.set_index(\"n\")"
   ]
  },
  {
   "cell_type": "code",
   "execution_count": 11,
   "metadata": {},
   "outputs": [
    {
     "data": {
      "text/plain": [
       "Text(0,0.5,'Absolute error')"
      ]
     },
     "execution_count": 11,
     "metadata": {},
     "output_type": "execute_result"
    },
    {
     "data": {
      "image/png": "[encoded data removed]",
      "text/plain": [
       "<matplotlib.figure.Figure at 0x1a1768fcf8>"
      ]
     },
     "metadata": {},
     "output_type": "display_data"
    }
   ],
   "source": [
    "fig, ax = plt.subplots()\n",
    "ax.plot(df.loc[:,\"n\"], df.loc[:,\"bistability\"], '-o', label='bistability')\n",
    "ax.plot(df.loc[:,\"n\"], df.loc[:,\"coexistence\"], '-o', label='coexistence')\n",
    "ax.plot(df.loc[:,\"n\"], df.loc[:,\"dominance\"], '-o', label='dominance')\n",
    "ax.set_yscale('log')\n",
    "ax.legend()\n",
    "plt.ylim([10**(-5),10**(0)])\n",
    "plt.xlabel(\"Population size\")\n",
    "plt.ylabel(\"Absolute error\")"
   ]
  },
  {
   "cell_type": "code",
   "execution_count": null,
   "metadata": {},
   "outputs": [],
   "source": [
    "fig.savefig('../../../manuscript/Figures/accuracy_simulated_prob_beta_1_0.pdf')"
   ]
  },
  {
   "cell_type": "markdown",
   "metadata": {},
   "source": [
    "### beta = 0.1"
   ]
  },
  {
   "cell_type": "code",
   "execution_count": 12,
   "metadata": {},
   "outputs": [],
   "source": [
    "n_values = list(range(5, 31, 5))\n",
    "abs_error_0_1 = []\n",
    "for n in n_values:\n",
    "    # dominance\n",
    "    sim_dom = estimate_fixation_probability(pop_size=n, beta=0.1, a=1.0, b=1.0, c=0.0, d=0.0, epsilon=0.01, delta=0.1, r_0=100)\n",
    "    direct_dom = fixation_probability_direct_method(pop_size=n, beta=0.1, a=1.0, b=1.0, c=0.0, d=0.0)\n",
    "    \n",
    "    #bistability\n",
    "    sim_bistab = estimate_fixation_probability(pop_size=n, beta=0.1, a=1.0, b=0.0, c=0.0, d=1.0, epsilon=0.01, delta=0.1, r_0=100)\n",
    "    direct_bistab = fixation_probability_direct_method(pop_size=n, beta=0.1, a=1.0, b=0.0, c=0.0, d=1.0)\n",
    "    \n",
    "    #coexistence\n",
    "    sim_coex = estimate_fixation_probability(pop_size=n, beta=0.1, a=0.0, b=1.0, c=1.0, d=0.0, epsilon=0.01, delta=0.1, r_0=100)\n",
    "    direct_coex = fixation_probability_direct_method(pop_size=n, beta=0.1, a=0.0, b=1.0, c=1.0, d=0.0)\n",
    "    \n",
    "    abs_error_dom = abs(sim_dom - direct_dom)\n",
    "    abs_error_bistab = abs(sim_bistab - direct_bistab)\n",
    "    abs_error_coex = abs(sim_coex - direct_coex)\n",
    "    \n",
    "    \n",
    "    abs_error_0_1.append({\"n\": n, \"dominance\": abs_error_dom, \"bistability\": abs_error_bistab, \"coexistence\": abs_error_coex})"
   ]
  },
  {
   "cell_type": "code",
   "execution_count": 13,
   "metadata": {},
   "outputs": [
    {
     "data": {
      "text/html": [
       "<div>\n",
       "<style scoped>\n",
       "    .dataframe tbody tr th:only-of-type {\n",
       "        vertical-align: middle;\n",
       "    }\n",
       "\n",
       "    .dataframe tbody tr th {\n",
       "        vertical-align: top;\n",
       "    }\n",
       "\n",
       "    .dataframe thead th {\n",
       "        text-align: right;\n",
       "    }\n",
       "</style>\n",
       "<table border=\"1\" class=\"dataframe\">\n",
       "  <thead>\n",
       "    <tr style=\"text-align: right;\">\n",
       "      <th></th>\n",
       "      <th>bistability</th>\n",
       "      <th>coexistence</th>\n",
       "      <th>dominance</th>\n",
       "    </tr>\n",
       "    <tr>\n",
       "      <th>n</th>\n",
       "      <th></th>\n",
       "      <th></th>\n",
       "      <th></th>\n",
       "    </tr>\n",
       "  </thead>\n",
       "  <tbody>\n",
       "    <tr>\n",
       "      <th>5</th>\n",
       "      <td>0.000643</td>\n",
       "      <td>0.000098</td>\n",
       "      <td>0.001002</td>\n",
       "    </tr>\n",
       "    <tr>\n",
       "      <th>10</th>\n",
       "      <td>0.000051</td>\n",
       "      <td>0.000878</td>\n",
       "      <td>0.000329</td>\n",
       "    </tr>\n",
       "    <tr>\n",
       "      <th>15</th>\n",
       "      <td>0.005157</td>\n",
       "      <td>0.000154</td>\n",
       "      <td>0.000359</td>\n",
       "    </tr>\n",
       "    <tr>\n",
       "      <th>20</th>\n",
       "      <td>0.001950</td>\n",
       "      <td>0.001432</td>\n",
       "      <td>0.002478</td>\n",
       "    </tr>\n",
       "    <tr>\n",
       "      <th>25</th>\n",
       "      <td>0.006324</td>\n",
       "      <td>0.002676</td>\n",
       "      <td>0.002961</td>\n",
       "    </tr>\n",
       "    <tr>\n",
       "      <th>30</th>\n",
       "      <td>0.001296</td>\n",
       "      <td>0.008201</td>\n",
       "      <td>0.001656</td>\n",
       "    </tr>\n",
       "  </tbody>\n",
       "</table>\n",
       "</div>"
      ],
      "text/plain": [
       "    bistability  coexistence  dominance\n",
       "n                                      \n",
       "5      0.000643     0.000098   0.001002\n",
       "10     0.000051     0.000878   0.000329\n",
       "15     0.005157     0.000154   0.000359\n",
       "20     0.001950     0.001432   0.002478\n",
       "25     0.006324     0.002676   0.002961\n",
       "30     0.001296     0.008201   0.001656"
      ]
     },
     "execution_count": 13,
     "metadata": {},
     "output_type": "execute_result"
    }
   ],
   "source": [
    "df_0_1 = pd.DataFrame(abs_error_0_1)\n",
    "df_0_1.set_index(\"n\")"
   ]
  },
  {
   "cell_type": "code",
   "execution_count": 14,
   "metadata": {},
   "outputs": [
    {
     "data": {
      "text/plain": [
       "Text(0,0.5,'Absolute error')"
      ]
     },
     "execution_count": 14,
     "metadata": {},
     "output_type": "execute_result"
    },
    {
     "data": {
      "image/png": "[encoded data removed]",
      "text/plain": [
       "<matplotlib.figure.Figure at 0x1a203eb240>"
      ]
     },
     "metadata": {},
     "output_type": "display_data"
    }
   ],
   "source": [
    "fig, ax = plt.subplots()\n",
    "ax.plot(df_0_1.loc[:,\"n\"], df_0_1.loc[:,\"bistability\"], '-o', label='bistability')\n",
    "ax.plot(df_0_1.loc[:,\"n\"], df_0_1.loc[:,\"coexistence\"], '-o', label='coexistence')\n",
    "ax.plot(df_0_1.loc[:,\"n\"], df_0_1.loc[:,\"dominance\"], '-o', label='dominance')\n",
    "ax.set_yscale('log')\n",
    "ax.legend()\n",
    "plt.ylim([10**(-5),10**(0)])\n",
    "plt.xlabel(\"Population size\")\n",
    "plt.ylabel(\"Absolute error\")"
   ]
  },
  {
   "cell_type": "code",
   "execution_count": null,
   "metadata": {},
   "outputs": [],
   "source": [
    "fig.savefig('../../../manuscript/Figures/accuracy_simulated_prob_beta_0_1.pdf')"
   ]
  },
  {
   "cell_type": "markdown",
   "metadata": {},
   "source": [
    "# Fixation time"
   ]
  },
  {
   "cell_type": "code",
   "execution_count": 9,
   "metadata": {},
   "outputs": [],
   "source": [
    "from direct_method import direct_conditional_fixation_time"
   ]
  },
  {
   "cell_type": "code",
   "execution_count": 10,
   "metadata": {},
   "outputs": [],
   "source": [
    "from simulation_when_to_stop import estimate_conditional_fixation_time"
   ]
  },
  {
   "cell_type": "markdown",
   "metadata": {},
   "source": [
    "## Conditional fixation time"
   ]
  },
  {
   "cell_type": "markdown",
   "metadata": {},
   "source": [
    "### beta = 1.0"
   ]
  },
  {
   "cell_type": "code",
   "execution_count": 14,
   "metadata": {},
   "outputs": [],
   "source": [
    "n_values = list(range(5, 51, 5))\n",
    "cond_rel_error_1_0 = []\n",
    "for n in n_values:\n",
    "    #dominance\n",
    "    tau_sim_dom = estimate_conditional_fixation_time(pop_size=n, beta=1.0, a=1.0, b=1.0, c=0.0, d=0.0, epsilon=0.01, k=100, r_0=100)\n",
    "    tau_direct_dom = direct_conditional_fixation_time(pop_size=n, beta=1.0, a=1.0, b=1.0, c=0.0, d=0.0)\n",
    "    \n",
    "    #bistability\n",
    "    tau_sim_bistab = estimate_conditional_fixation_time(pop_size=n, beta=1.0, a=1.0, b=0.0, c=0.0, d=1.0, epsilon=0.01, k=100, r_0=100)\n",
    "    tau_direct_bistab = direct_conditional_fixation_time(pop_size=n, beta=1.0, a=1.0, b=0.0, c=0.0, d=1.0)\n",
    "    \n",
    "    #coexistence\n",
    "    tau_sim_coex = estimate_conditional_fixation_time(pop_size=n, beta=1.0, a=0.0, b=1.0, c=1.0, d=0.0, epsilon=0.01, k=100, r_0=100)\n",
    "    tau_direct_coex = direct_conditional_fixation_time(pop_size=n, beta=1.0, a=0.0, b=1.0, c=1.0, d=0.0)\n",
    "    \n",
    "    rel_error_dom = abs(tau_sim_dom - tau_direct_dom)/tau_direct_dom\n",
    "    rel_error_bistab = abs(tau_sim_bistab - tau_direct_bistab)/tau_direct_bistab\n",
    "    rel_error_coex = abs(tau_sim_coex - tau_direct_coex)/tau_direct_coex\n",
    "    \n",
    "    \n",
    "    cond_rel_error_1_0.append({\"n\": n, \"dominance\": rel_error_dom, \"bistability\": rel_error_bistab, \"coexistence\": rel_error_coex})"
   ]
  },
  {
   "cell_type": "code",
   "execution_count": 15,
   "metadata": {},
   "outputs": [
    {
     "data": {
      "text/html": [
       "<div>\n",
       "<style scoped>\n",
       "    .dataframe tbody tr th:only-of-type {\n",
       "        vertical-align: middle;\n",
       "    }\n",
       "\n",
       "    .dataframe tbody tr th {\n",
       "        vertical-align: top;\n",
       "    }\n",
       "\n",
       "    .dataframe thead th {\n",
       "        text-align: right;\n",
       "    }\n",
       "</style>\n",
       "<table border=\"1\" class=\"dataframe\">\n",
       "  <thead>\n",
       "    <tr style=\"text-align: right;\">\n",
       "      <th></th>\n",
       "      <th>bistability</th>\n",
       "      <th>coexistence</th>\n",
       "      <th>dominance</th>\n",
       "    </tr>\n",
       "    <tr>\n",
       "      <th>n</th>\n",
       "      <th></th>\n",
       "      <th></th>\n",
       "      <th></th>\n",
       "    </tr>\n",
       "  </thead>\n",
       "  <tbody>\n",
       "    <tr>\n",
       "      <th>5</th>\n",
       "      <td>0.026981</td>\n",
       "      <td>0.068844</td>\n",
       "      <td>0.022761</td>\n",
       "    </tr>\n",
       "    <tr>\n",
       "      <th>10</th>\n",
       "      <td>0.014339</td>\n",
       "      <td>0.051702</td>\n",
       "      <td>0.008883</td>\n",
       "    </tr>\n",
       "    <tr>\n",
       "      <th>15</th>\n",
       "      <td>0.028410</td>\n",
       "      <td>0.018636</td>\n",
       "      <td>0.011588</td>\n",
       "    </tr>\n",
       "    <tr>\n",
       "      <th>20</th>\n",
       "      <td>0.031804</td>\n",
       "      <td>0.056359</td>\n",
       "      <td>0.008049</td>\n",
       "    </tr>\n",
       "    <tr>\n",
       "      <th>25</th>\n",
       "      <td>0.003726</td>\n",
       "      <td>0.080625</td>\n",
       "      <td>0.007726</td>\n",
       "    </tr>\n",
       "    <tr>\n",
       "      <th>30</th>\n",
       "      <td>0.039006</td>\n",
       "      <td>0.017185</td>\n",
       "      <td>0.002327</td>\n",
       "    </tr>\n",
       "    <tr>\n",
       "      <th>35</th>\n",
       "      <td>0.002756</td>\n",
       "      <td>0.007980</td>\n",
       "      <td>0.012702</td>\n",
       "    </tr>\n",
       "    <tr>\n",
       "      <th>40</th>\n",
       "      <td>0.018746</td>\n",
       "      <td>0.046113</td>\n",
       "      <td>0.012813</td>\n",
       "    </tr>\n",
       "    <tr>\n",
       "      <th>45</th>\n",
       "      <td>0.019372</td>\n",
       "      <td>0.053575</td>\n",
       "      <td>0.022353</td>\n",
       "    </tr>\n",
       "    <tr>\n",
       "      <th>50</th>\n",
       "      <td>0.011335</td>\n",
       "      <td>0.036450</td>\n",
       "      <td>0.005613</td>\n",
       "    </tr>\n",
       "  </tbody>\n",
       "</table>\n",
       "</div>"
      ],
      "text/plain": [
       "    bistability  coexistence  dominance\n",
       "n                                      \n",
       "5      0.026981     0.068844   0.022761\n",
       "10     0.014339     0.051702   0.008883\n",
       "15     0.028410     0.018636   0.011588\n",
       "20     0.031804     0.056359   0.008049\n",
       "25     0.003726     0.080625   0.007726\n",
       "30     0.039006     0.017185   0.002327\n",
       "35     0.002756     0.007980   0.012702\n",
       "40     0.018746     0.046113   0.012813\n",
       "45     0.019372     0.053575   0.022353\n",
       "50     0.011335     0.036450   0.005613"
      ]
     },
     "execution_count": 15,
     "metadata": {},
     "output_type": "execute_result"
    }
   ],
   "source": [
    "df = pd.DataFrame(cond_rel_error_1_0)\n",
    "df.set_index(\"n\")"
   ]
  },
  {
   "cell_type": "code",
   "execution_count": 16,
   "metadata": {},
   "outputs": [
    {
     "data": {
      "text/plain": [
       "Text(0,0.5,'Relative error')"
      ]
     },
     "execution_count": 16,
     "metadata": {},
     "output_type": "execute_result"
    },
    {
     "data": {
      "image/png": "[encoded data removed]",
      "text/plain": [
       "<matplotlib.figure.Figure at 0x1a107620b8>"
      ]
     },
     "metadata": {},
     "output_type": "display_data"
    }
   ],
   "source": [
    "fig, ax = plt.subplots()\n",
    "ax.plot(df.loc[:,\"n\"], df.loc[:,\"bistability\"], '-o', label='bistability')\n",
    "ax.plot(df.loc[:,\"n\"], df.loc[:,\"coexistence\"], '-o', label='coexistence')\n",
    "ax.plot(df.loc[:,\"n\"], df.loc[:,\"dominance\"], '-o', label='dominance')\n",
    "ax.set_yscale('log')\n",
    "ax.legend()\n",
    "plt.ylim([10**(-3),10**(0)])\n",
    "plt.xlabel(\"Population size\")\n",
    "plt.ylabel(\"Relative error\")"
   ]
  },
  {
   "cell_type": "code",
   "execution_count": null,
   "metadata": {},
   "outputs": [],
   "source": [
    "fig.savefig('../../../manuscript/Figures/accuracy_simulated_time_beta_1_0.pdf')"
   ]
  },
  {
   "cell_type": "markdown",
   "metadata": {},
   "source": [
    "### beta = 0.1"
   ]
  },
  {
   "cell_type": "code",
   "execution_count": 17,
   "metadata": {},
   "outputs": [],
   "source": [
    "n_values = list(range(5, 51, 5))\n",
    "cond_rel_error_0_1 = []\n",
    "for n in n_values:\n",
    "    #dominance\n",
    "    tau_sim_dom = estimate_conditional_fixation_time(pop_size=n, beta=0.1, a=1.0, b=1.0, c=0.0, d=0.0, epsilon=0.01, k=100, r_0=100)\n",
    "    tau_direct_dom = direct_conditional_fixation_time(pop_size=n, beta=0.1, a=1.0, b=1.0, c=0.0, d=0.0)\n",
    "    \n",
    "    #bistability\n",
    "    tau_sim_bistab = estimate_conditional_fixation_time(pop_size=n, beta=0.1, a=1.0, b=0.0, c=0.0, d=1.0, epsilon=0.01, k=100, r_0=100)\n",
    "    tau_direct_bistab = direct_conditional_fixation_time(pop_size=n, beta=0.1, a=1.0, b=0.0, c=0.0, d=1.0)\n",
    "    \n",
    "    #coexistence\n",
    "    tau_sim_coex = estimate_conditional_fixation_time(pop_size=n, beta=0.1, a=0.0, b=1.0, c=1.0, d=0.0, epsilon=0.01, k=100, r_0=100)\n",
    "    tau_direct_coex = direct_conditional_fixation_time(pop_size=n, beta=0.1, a=0.0, b=1.0, c=1.0, d=0.0)\n",
    "    \n",
    "    rel_error_dom = abs(tau_sim_dom - tau_direct_dom)/tau_direct_dom\n",
    "    rel_error_bistab = abs(tau_sim_bistab - tau_direct_bistab)/tau_direct_bistab\n",
    "    rel_error_coex = abs(tau_sim_coex - tau_direct_coex)/tau_direct_coex\n",
    "    \n",
    "    \n",
    "    cond_rel_error_0_1.append({\"n\": n, \"dominance\": rel_error_dom, \"bistability\": rel_error_bistab, \"coexistence\": rel_error_coex})"
   ]
  },
  {
   "cell_type": "code",
   "execution_count": 18,
   "metadata": {},
   "outputs": [
    {
     "data": {
      "text/html": [
       "<div>\n",
       "<style scoped>\n",
       "    .dataframe tbody tr th:only-of-type {\n",
       "        vertical-align: middle;\n",
       "    }\n",
       "\n",
       "    .dataframe tbody tr th {\n",
       "        vertical-align: top;\n",
       "    }\n",
       "\n",
       "    .dataframe thead th {\n",
       "        text-align: right;\n",
       "    }\n",
       "</style>\n",
       "<table border=\"1\" class=\"dataframe\">\n",
       "  <thead>\n",
       "    <tr style=\"text-align: right;\">\n",
       "      <th></th>\n",
       "      <th>bistability</th>\n",
       "      <th>coexistence</th>\n",
       "      <th>dominance</th>\n",
       "    </tr>\n",
       "    <tr>\n",
       "      <th>n</th>\n",
       "      <th></th>\n",
       "      <th></th>\n",
       "      <th></th>\n",
       "    </tr>\n",
       "  </thead>\n",
       "  <tbody>\n",
       "    <tr>\n",
       "      <th>5</th>\n",
       "      <td>0.001980</td>\n",
       "      <td>0.005955</td>\n",
       "      <td>0.037110</td>\n",
       "    </tr>\n",
       "    <tr>\n",
       "      <th>10</th>\n",
       "      <td>0.055779</td>\n",
       "      <td>0.003809</td>\n",
       "      <td>0.005256</td>\n",
       "    </tr>\n",
       "    <tr>\n",
       "      <th>15</th>\n",
       "      <td>0.029847</td>\n",
       "      <td>0.022356</td>\n",
       "      <td>0.019899</td>\n",
       "    </tr>\n",
       "    <tr>\n",
       "      <th>20</th>\n",
       "      <td>0.018342</td>\n",
       "      <td>0.003850</td>\n",
       "      <td>0.018410</td>\n",
       "    </tr>\n",
       "    <tr>\n",
       "      <th>25</th>\n",
       "      <td>0.006186</td>\n",
       "      <td>0.014854</td>\n",
       "      <td>0.050047</td>\n",
       "    </tr>\n",
       "    <tr>\n",
       "      <th>30</th>\n",
       "      <td>0.019684</td>\n",
       "      <td>0.046164</td>\n",
       "      <td>0.004959</td>\n",
       "    </tr>\n",
       "    <tr>\n",
       "      <th>35</th>\n",
       "      <td>0.003608</td>\n",
       "      <td>0.008053</td>\n",
       "      <td>0.008273</td>\n",
       "    </tr>\n",
       "    <tr>\n",
       "      <th>40</th>\n",
       "      <td>0.021695</td>\n",
       "      <td>0.026744</td>\n",
       "      <td>0.023512</td>\n",
       "    </tr>\n",
       "    <tr>\n",
       "      <th>45</th>\n",
       "      <td>0.009893</td>\n",
       "      <td>0.005179</td>\n",
       "      <td>0.009844</td>\n",
       "    </tr>\n",
       "    <tr>\n",
       "      <th>50</th>\n",
       "      <td>0.015631</td>\n",
       "      <td>0.043490</td>\n",
       "      <td>0.016324</td>\n",
       "    </tr>\n",
       "  </tbody>\n",
       "</table>\n",
       "</div>"
      ],
      "text/plain": [
       "    bistability  coexistence  dominance\n",
       "n                                      \n",
       "5      0.001980     0.005955   0.037110\n",
       "10     0.055779     0.003809   0.005256\n",
       "15     0.029847     0.022356   0.019899\n",
       "20     0.018342     0.003850   0.018410\n",
       "25     0.006186     0.014854   0.050047\n",
       "30     0.019684     0.046164   0.004959\n",
       "35     0.003608     0.008053   0.008273\n",
       "40     0.021695     0.026744   0.023512\n",
       "45     0.009893     0.005179   0.009844\n",
       "50     0.015631     0.043490   0.016324"
      ]
     },
     "execution_count": 18,
     "metadata": {},
     "output_type": "execute_result"
    }
   ],
   "source": [
    "df_0_1 = pd.DataFrame(cond_rel_error_0_1)\n",
    "df_0_1.set_index(\"n\")"
   ]
  },
  {
   "cell_type": "code",
   "execution_count": 19,
   "metadata": {},
   "outputs": [
    {
     "data": {
      "text/plain": [
       "Text(0,0.5,'Relative error')"
      ]
     },
     "execution_count": 19,
     "metadata": {},
     "output_type": "execute_result"
    },
    {
     "data": {
      "image/png": "[encoded data removed]",
      "text/plain": [
       "<matplotlib.figure.Figure at 0x1a14503f98>"
      ]
     },
     "metadata": {},
     "output_type": "display_data"
    }
   ],
   "source": [
    "fig, ax = plt.subplots()\n",
    "ax.plot(df_0_1.loc[:,\"n\"], df_0_1.loc[:,\"bistability\"], '-o', label='bistability')\n",
    "ax.plot(df_0_1.loc[:,\"n\"], df_0_1.loc[:,\"coexistence\"], '-o', label='coexistence')\n",
    "ax.plot(df_0_1.loc[:,\"n\"], df_0_1.loc[:,\"dominance\"], '-o', label='dominance')\n",
    "ax.set_yscale('log')\n",
    "ax.legend(loc='lower right')\n",
    "plt.ylim([10**(-5),10**(0)])\n",
    "plt.xlabel(\"Population size\")\n",
    "plt.ylabel(\"Relative error\")"
   ]
  },
  {
   "cell_type": "code",
   "execution_count": null,
   "metadata": {},
   "outputs": [],
   "source": [
    "fig.savefig('../../../manuscript/Figures/accuracy_simulated_time_beta_0_1.pdf')"
   ]
  },
  {
   "cell_type": "markdown",
   "metadata": {},
   "source": [
    "## Unconditional fixation time"
   ]
  },
  {
   "cell_type": "code",
   "execution_count": 28,
   "metadata": {},
   "outputs": [],
   "source": [
    "from direct_method import direct_unconditional_fixation_time"
   ]
  },
  {
   "cell_type": "code",
   "execution_count": 29,
   "metadata": {},
   "outputs": [],
   "source": [
    "from simulation_when_to_stop import estimate_unconditional_fixation_time"
   ]
  },
  {
   "cell_type": "markdown",
   "metadata": {},
   "source": [
    "### beta = 1.0"
   ]
  },
  {
   "cell_type": "code",
   "execution_count": 36,
   "metadata": {},
   "outputs": [],
   "source": [
    "n_values = list(range(5, 51, 5))\n",
    "uncond_rel_error = []\n",
    "for n in n_values:\n",
    "    #dominance\n",
    "    tau_sim_dom = estimate_unconditional_fixation_time(pop_size=n, beta=1.0, a=1.0, b=1.0, c=0.0, d=0.0, epsilon=0.01, k=100, r_0=100)\n",
    "    tau_direct_dom = direct_unconditional_fixation_time(pop_size=n, beta=1.0, a=1.0, b=1.0, c=0.0, d=0.0)\n",
    "    \n",
    "    #bistability\n",
    "    tau_sim_bistab = estimate_unconditional_fixation_time(pop_size=n, beta=1.0, a=1.0, b=0.0, c=0.0, d=1.0, epsilon=0.01, k=100, r_0=100)\n",
    "    tau_direct_bistab = direct_unconditional_fixation_time(pop_size=n, beta=1.0, a=1.0, b=0.0, c=0.0, d=1.0)\n",
    "    \n",
    "    #coexistence\n",
    "    tau_sim_coex = estimate_unconditional_fixation_time(pop_size=n, beta=1.0, a=0.0, b=1.0, c=1.0, d=0.0, epsilon=0.01, k=100, r_0=100)\n",
    "    tau_direct_coex = direct_unconditional_fixation_time(pop_size=n, beta=1.0, a=0.0, b=1.0, c=1.0, d=0.0)\n",
    "    \n",
    "    rel_error_dom = abs(tau_sim_dom - tau_direct_dom)/tau_direct_dom\n",
    "    rel_error_bistab = abs(tau_sim_bistab - tau_direct_bistab)/tau_direct_bistab\n",
    "    rel_error_coex = abs(tau_sim_coex - tau_direct_coex)/tau_direct_coex\n",
    "    \n",
    "    \n",
    "    uncond_rel_error.append({\"n\": n, \"dominance\": rel_error_dom, \"bistability\": rel_error_bistab, \"coexistence\": rel_error_coex})"
   ]
  },
  {
   "cell_type": "code",
   "execution_count": 37,
   "metadata": {},
   "outputs": [
    {
     "data": {
      "text/html": [
       "<div>\n",
       "<style scoped>\n",
       "    .dataframe tbody tr th:only-of-type {\n",
       "        vertical-align: middle;\n",
       "    }\n",
       "\n",
       "    .dataframe tbody tr th {\n",
       "        vertical-align: top;\n",
       "    }\n",
       "\n",
       "    .dataframe thead th {\n",
       "        text-align: right;\n",
       "    }\n",
       "</style>\n",
       "<table border=\"1\" class=\"dataframe\">\n",
       "  <thead>\n",
       "    <tr style=\"text-align: right;\">\n",
       "      <th></th>\n",
       "      <th>bistability</th>\n",
       "      <th>coexistence</th>\n",
       "      <th>dominance</th>\n",
       "    </tr>\n",
       "    <tr>\n",
       "      <th>n</th>\n",
       "      <th></th>\n",
       "      <th></th>\n",
       "      <th></th>\n",
       "    </tr>\n",
       "  </thead>\n",
       "  <tbody>\n",
       "    <tr>\n",
       "      <th>5</th>\n",
       "      <td>0.020605</td>\n",
       "      <td>0.006825</td>\n",
       "      <td>0.013453</td>\n",
       "    </tr>\n",
       "    <tr>\n",
       "      <th>10</th>\n",
       "      <td>0.078572</td>\n",
       "      <td>0.039090</td>\n",
       "      <td>0.014289</td>\n",
       "    </tr>\n",
       "    <tr>\n",
       "      <th>15</th>\n",
       "      <td>0.039277</td>\n",
       "      <td>0.012691</td>\n",
       "      <td>0.048546</td>\n",
       "    </tr>\n",
       "    <tr>\n",
       "      <th>20</th>\n",
       "      <td>0.092078</td>\n",
       "      <td>0.036682</td>\n",
       "      <td>0.058581</td>\n",
       "    </tr>\n",
       "    <tr>\n",
       "      <th>25</th>\n",
       "      <td>0.020666</td>\n",
       "      <td>0.025136</td>\n",
       "      <td>0.001779</td>\n",
       "    </tr>\n",
       "    <tr>\n",
       "      <th>30</th>\n",
       "      <td>0.071096</td>\n",
       "      <td>0.036582</td>\n",
       "      <td>0.050754</td>\n",
       "    </tr>\n",
       "    <tr>\n",
       "      <th>35</th>\n",
       "      <td>0.048405</td>\n",
       "      <td>0.006432</td>\n",
       "      <td>0.002537</td>\n",
       "    </tr>\n",
       "    <tr>\n",
       "      <th>40</th>\n",
       "      <td>0.048272</td>\n",
       "      <td>0.106385</td>\n",
       "      <td>0.031230</td>\n",
       "    </tr>\n",
       "    <tr>\n",
       "      <th>45</th>\n",
       "      <td>0.008233</td>\n",
       "      <td>0.004171</td>\n",
       "      <td>0.078016</td>\n",
       "    </tr>\n",
       "    <tr>\n",
       "      <th>50</th>\n",
       "      <td>0.041143</td>\n",
       "      <td>0.083139</td>\n",
       "      <td>0.020331</td>\n",
       "    </tr>\n",
       "  </tbody>\n",
       "</table>\n",
       "</div>"
      ],
      "text/plain": [
       "    bistability  coexistence  dominance\n",
       "n                                      \n",
       "5      0.020605     0.006825   0.013453\n",
       "10     0.078572     0.039090   0.014289\n",
       "15     0.039277     0.012691   0.048546\n",
       "20     0.092078     0.036682   0.058581\n",
       "25     0.020666     0.025136   0.001779\n",
       "30     0.071096     0.036582   0.050754\n",
       "35     0.048405     0.006432   0.002537\n",
       "40     0.048272     0.106385   0.031230\n",
       "45     0.008233     0.004171   0.078016\n",
       "50     0.041143     0.083139   0.020331"
      ]
     },
     "execution_count": 37,
     "metadata": {},
     "output_type": "execute_result"
    }
   ],
   "source": [
    "df_uncond = pd.DataFrame(uncond_rel_error)\n",
    "df_uncond.set_index(\"n\")"
   ]
  },
  {
   "cell_type": "code",
   "execution_count": 38,
   "metadata": {},
   "outputs": [
    {
     "data": {
      "text/plain": [
       "Text(0,0.5,'Relative error')"
      ]
     },
     "execution_count": 38,
     "metadata": {},
     "output_type": "execute_result"
    },
    {
     "data": {
      "image/png": "[encoded data removed]",
      "text/plain": [
       "<matplotlib.figure.Figure at 0x1a218c0978>"
      ]
     },
     "metadata": {},
     "output_type": "display_data"
    }
   ],
   "source": [
    "fig, ax = plt.subplots()\n",
    "ax.plot(df_uncond.loc[:,\"n\"], df_uncond.loc[:,\"bistability\"], '-o', label='bistability')\n",
    "ax.plot(df_uncond.loc[:,\"n\"], df_uncond.loc[:,\"coexistence\"], '-o', label='coexistence')\n",
    "ax.plot(df_uncond.loc[:,\"n\"], df_uncond.loc[:,\"dominance\"], '-o', label='dominance')\n",
    "ax.set_yscale('log')\n",
    "ax.legend()\n",
    "plt.ylim([10**(-5),10**(0)])\n",
    "plt.xlabel(\"Population size\")\n",
    "plt.ylabel(\"Relative error\")"
   ]
  },
  {
   "cell_type": "code",
   "execution_count": 39,
   "metadata": {},
   "outputs": [],
   "source": [
    "fig.savefig('../../../manuscript/Figures/accuracy_simulated_unconditional_time_beta_1_0.pdf')"
   ]
  },
  {
   "cell_type": "markdown",
   "metadata": {},
   "source": [
    "### beta = 0.1"
   ]
  },
  {
   "cell_type": "code",
   "execution_count": 32,
   "metadata": {},
   "outputs": [],
   "source": [
    "n_values = list(range(5, 51, 5))\n",
    "uncond_rel_error_0_1 = []\n",
    "for n in n_values:\n",
    "    #dominance\n",
    "    tau_sim_dom = estimate_unconditional_fixation_time(pop_size=n, beta=0.1, a=1.0, b=1.0, c=0.0, d=0.0, epsilon=0.01, k=100, r_0=100)\n",
    "    tau_direct_dom = direct_unconditional_fixation_time(pop_size=n, beta=0.1, a=1.0, b=1.0, c=0.0, d=0.0)\n",
    "    \n",
    "    #bistability\n",
    "    tau_sim_bistab = estimate_unconditional_fixation_time(pop_size=n, beta=0.1, a=1.0, b=0.0, c=0.0, d=1.0, epsilon=0.01, k=100, r_0=100)\n",
    "    tau_direct_bistab = direct_unconditional_fixation_time(pop_size=n, beta=0.1, a=1.0, b=0.0, c=0.0, d=1.0)\n",
    "    \n",
    "    #coexistence\n",
    "    tau_sim_coex = estimate_unconditional_fixation_time(pop_size=n, beta=0.1, a=0.0, b=1.0, c=1.0, d=0.0, epsilon=0.01, k=100, r_0=100)\n",
    "    tau_direct_coex = direct_unconditional_fixation_time(pop_size=n, beta=0.1, a=0.0, b=1.0, c=1.0, d=0.0)\n",
    "    \n",
    "    rel_error_dom = abs(tau_sim_dom - tau_direct_dom)/tau_direct_dom\n",
    "    rel_error_bistab = abs(tau_sim_bistab - tau_direct_bistab)/tau_direct_bistab\n",
    "    rel_error_coex = abs(tau_sim_coex - tau_direct_coex)/tau_direct_coex\n",
    "    \n",
    "    \n",
    "    uncond_rel_error_0_1.append({\"n\": n, \"dominance\": rel_error_dom, \"bistability\": rel_error_bistab, \"coexistence\": rel_error_coex})"
   ]
  },
  {
   "cell_type": "code",
   "execution_count": 33,
   "metadata": {},
   "outputs": [
    {
     "data": {
      "text/html": [
       "<div>\n",
       "<style scoped>\n",
       "    .dataframe tbody tr th:only-of-type {\n",
       "        vertical-align: middle;\n",
       "    }\n",
       "\n",
       "    .dataframe tbody tr th {\n",
       "        vertical-align: top;\n",
       "    }\n",
       "\n",
       "    .dataframe thead th {\n",
       "        text-align: right;\n",
       "    }\n",
       "</style>\n",
       "<table border=\"1\" class=\"dataframe\">\n",
       "  <thead>\n",
       "    <tr style=\"text-align: right;\">\n",
       "      <th></th>\n",
       "      <th>bistability</th>\n",
       "      <th>coexistence</th>\n",
       "      <th>dominance</th>\n",
       "    </tr>\n",
       "    <tr>\n",
       "      <th>n</th>\n",
       "      <th></th>\n",
       "      <th></th>\n",
       "      <th></th>\n",
       "    </tr>\n",
       "  </thead>\n",
       "  <tbody>\n",
       "    <tr>\n",
       "      <th>5</th>\n",
       "      <td>0.066042</td>\n",
       "      <td>0.083424</td>\n",
       "      <td>0.077236</td>\n",
       "    </tr>\n",
       "    <tr>\n",
       "      <th>10</th>\n",
       "      <td>0.065770</td>\n",
       "      <td>0.026060</td>\n",
       "      <td>0.034633</td>\n",
       "    </tr>\n",
       "    <tr>\n",
       "      <th>15</th>\n",
       "      <td>0.064304</td>\n",
       "      <td>0.078223</td>\n",
       "      <td>0.041463</td>\n",
       "    </tr>\n",
       "    <tr>\n",
       "      <th>20</th>\n",
       "      <td>0.013422</td>\n",
       "      <td>0.039496</td>\n",
       "      <td>0.062307</td>\n",
       "    </tr>\n",
       "    <tr>\n",
       "      <th>25</th>\n",
       "      <td>0.082399</td>\n",
       "      <td>0.143236</td>\n",
       "      <td>0.024873</td>\n",
       "    </tr>\n",
       "    <tr>\n",
       "      <th>30</th>\n",
       "      <td>0.040840</td>\n",
       "      <td>0.002681</td>\n",
       "      <td>0.017018</td>\n",
       "    </tr>\n",
       "    <tr>\n",
       "      <th>35</th>\n",
       "      <td>0.059487</td>\n",
       "      <td>0.026159</td>\n",
       "      <td>0.057196</td>\n",
       "    </tr>\n",
       "    <tr>\n",
       "      <th>40</th>\n",
       "      <td>0.215850</td>\n",
       "      <td>0.045584</td>\n",
       "      <td>0.052630</td>\n",
       "    </tr>\n",
       "    <tr>\n",
       "      <th>45</th>\n",
       "      <td>0.018585</td>\n",
       "      <td>0.404826</td>\n",
       "      <td>0.029508</td>\n",
       "    </tr>\n",
       "    <tr>\n",
       "      <th>50</th>\n",
       "      <td>0.071081</td>\n",
       "      <td>0.114061</td>\n",
       "      <td>0.045460</td>\n",
       "    </tr>\n",
       "  </tbody>\n",
       "</table>\n",
       "</div>"
      ],
      "text/plain": [
       "    bistability  coexistence  dominance\n",
       "n                                      \n",
       "5      0.066042     0.083424   0.077236\n",
       "10     0.065770     0.026060   0.034633\n",
       "15     0.064304     0.078223   0.041463\n",
       "20     0.013422     0.039496   0.062307\n",
       "25     0.082399     0.143236   0.024873\n",
       "30     0.040840     0.002681   0.017018\n",
       "35     0.059487     0.026159   0.057196\n",
       "40     0.215850     0.045584   0.052630\n",
       "45     0.018585     0.404826   0.029508\n",
       "50     0.071081     0.114061   0.045460"
      ]
     },
     "execution_count": 33,
     "metadata": {},
     "output_type": "execute_result"
    }
   ],
   "source": [
    "df_uncond_0_1 = pd.DataFrame(uncond_rel_error_0_1)\n",
    "df_uncond_0_1.set_index(\"n\")"
   ]
  },
  {
   "cell_type": "code",
   "execution_count": 34,
   "metadata": {},
   "outputs": [
    {
     "data": {
      "text/plain": [
       "Text(0,0.5,'Relative error')"
      ]
     },
     "execution_count": 34,
     "metadata": {},
     "output_type": "execute_result"
    },
    {
     "data": {
      "image/png": "[encoded data removed]",
      "text/plain": [
       "<matplotlib.figure.Figure at 0x1a2118ada0>"
      ]
     },
     "metadata": {},
     "output_type": "display_data"
    }
   ],
   "source": [
    "fig, ax = plt.subplots()\n",
    "ax.plot(df_uncond_0_1.loc[:,\"n\"], df_uncond_0_1.loc[:,\"bistability\"], '-o', label='bistability')\n",
    "ax.plot(df_uncond_0_1.loc[:,\"n\"], df_uncond_0_1.loc[:,\"coexistence\"], '-o', label='coexistence')\n",
    "ax.plot(df_uncond_0_1.loc[:,\"n\"], df_uncond_0_1.loc[:,\"dominance\"], '-o', label='dominance')\n",
    "ax.set_yscale('log')\n",
    "ax.legend()\n",
    "plt.ylim([10**(-5),10**(0)])\n",
    "plt.xlabel(\"Population size\")\n",
    "plt.ylabel(\"Relative error\")"
   ]
  },
  {
   "cell_type": "code",
   "execution_count": 35,
   "metadata": {},
   "outputs": [],
   "source": [
    "fig.savefig('../../../manuscript/Figures/accuracy_simulated_unconditional_time_beta_0_1.pdf')"
   ]
  },
  {
   "cell_type": "markdown",
   "metadata": {},
   "source": [
    "# Stationary distribution"
   ]
  },
  {
   "cell_type": "code",
   "execution_count": 5,
   "metadata": {},
   "outputs": [],
   "source": [
    "from scipy.stats import entropy"
   ]
  },
  {
   "cell_type": "code",
   "execution_count": 6,
   "metadata": {},
   "outputs": [],
   "source": [
    "from direct_method import direct_stationary"
   ]
  },
  {
   "cell_type": "code",
   "execution_count": 7,
   "metadata": {},
   "outputs": [],
   "source": [
    "from simulation_when_to_stop import estimate_stationary"
   ]
  },
  {
   "cell_type": "markdown",
   "metadata": {},
   "source": [
    "### a) beta = 0.1, mu = 0.1"
   ]
  },
  {
   "cell_type": "code",
   "execution_count": 8,
   "metadata": {},
   "outputs": [],
   "source": [
    "n_values = list(range(10, 101, 10))\n",
    "kullback_a = []\n",
    "for n in n_values:\n",
    "    #dominance\n",
    "    distr_sim_dom = estimate_stationary(pop_size=n, beta=0.1, a=1.0, b=1.0, c=0.0, d=0.0, r_0=100*n, epsilon=0.0001, k=10000*n, mu=0.1)\n",
    "    distr_direct_dom = direct_stationary(pop_size=n, beta=0.1, a=1.0, b=1.0, c=0.0, d=0.0, mu=0.1)\n",
    "    \n",
    "    #bistability\n",
    "    distr_sim_bistab = estimate_stationary(pop_size=n, beta=0.1, a=1.0, b=0.0, c=0.0, d=1.0, r_0=100*n, epsilon=0.0001, k=10000*n, mu=0.1)\n",
    "    distr_direct_bistab = direct_stationary(pop_size=n, beta=0.1, a=1.0, b=0.0, c=0.0, d=1.0, mu=0.1)\n",
    "    \n",
    "    #coexistence\n",
    "    distr_sim_coex = estimate_stationary(pop_size=n, beta=0.1, a=0.0, b=1.0, c=1.0, d=0.0, r_0=100*n, epsilon=0.0001, k=10000*n, mu=0.1)\n",
    "    distr_direct_coex = direct_stationary(pop_size=n, beta=0.1, a=0.0, b=1.0, c=1.0, d=0.0, mu=0.1)\n",
    "    \n",
    "    kullback_leibler_dom = entropy(distr_sim_dom, distr_direct_dom)\n",
    "    kullback_leibler_bistab = entropy(distr_sim_bistab, distr_direct_bistab)\n",
    "    kullback_leibler_coex = entropy(distr_sim_coex, distr_direct_coex)\n",
    "    \n",
    "    kullback_a.append({\"n\": n, \"dominance\": kullback_leibler_dom, \"coexistence\": kullback_leibler_coex, \"bistability\": kullback_leibler_bistab})\n"
   ]
  },
  {
   "cell_type": "code",
   "execution_count": 10,
   "metadata": {},
   "outputs": [
    {
     "data": {
      "text/html": [
       "<div>\n",
       "<style scoped>\n",
       "    .dataframe tbody tr th:only-of-type {\n",
       "        vertical-align: middle;\n",
       "    }\n",
       "\n",
       "    .dataframe tbody tr th {\n",
       "        vertical-align: top;\n",
       "    }\n",
       "\n",
       "    .dataframe thead th {\n",
       "        text-align: right;\n",
       "    }\n",
       "</style>\n",
       "<table border=\"1\" class=\"dataframe\">\n",
       "  <thead>\n",
       "    <tr style=\"text-align: right;\">\n",
       "      <th></th>\n",
       "      <th>bistability</th>\n",
       "      <th>coexistence</th>\n",
       "      <th>dominance</th>\n",
       "    </tr>\n",
       "    <tr>\n",
       "      <th>n</th>\n",
       "      <th></th>\n",
       "      <th></th>\n",
       "      <th></th>\n",
       "    </tr>\n",
       "  </thead>\n",
       "  <tbody>\n",
       "    <tr>\n",
       "      <th>10</th>\n",
       "      <td>0.000166</td>\n",
       "      <td>0.000115</td>\n",
       "      <td>0.000253</td>\n",
       "    </tr>\n",
       "    <tr>\n",
       "      <th>20</th>\n",
       "      <td>0.000470</td>\n",
       "      <td>0.000342</td>\n",
       "      <td>0.000223</td>\n",
       "    </tr>\n",
       "    <tr>\n",
       "      <th>30</th>\n",
       "      <td>0.000076</td>\n",
       "      <td>0.000204</td>\n",
       "      <td>0.000533</td>\n",
       "    </tr>\n",
       "    <tr>\n",
       "      <th>40</th>\n",
       "      <td>0.000206</td>\n",
       "      <td>0.000107</td>\n",
       "      <td>0.000746</td>\n",
       "    </tr>\n",
       "    <tr>\n",
       "      <th>50</th>\n",
       "      <td>0.000217</td>\n",
       "      <td>0.000343</td>\n",
       "      <td>0.000183</td>\n",
       "    </tr>\n",
       "    <tr>\n",
       "      <th>60</th>\n",
       "      <td>0.000322</td>\n",
       "      <td>0.000244</td>\n",
       "      <td>0.000277</td>\n",
       "    </tr>\n",
       "    <tr>\n",
       "      <th>70</th>\n",
       "      <td>0.000321</td>\n",
       "      <td>0.000146</td>\n",
       "      <td>0.000302</td>\n",
       "    </tr>\n",
       "    <tr>\n",
       "      <th>80</th>\n",
       "      <td>0.000258</td>\n",
       "      <td>0.000146</td>\n",
       "      <td>0.000402</td>\n",
       "    </tr>\n",
       "    <tr>\n",
       "      <th>90</th>\n",
       "      <td>0.000294</td>\n",
       "      <td>0.000300</td>\n",
       "      <td>0.000227</td>\n",
       "    </tr>\n",
       "    <tr>\n",
       "      <th>100</th>\n",
       "      <td>0.000625</td>\n",
       "      <td>0.000396</td>\n",
       "      <td>0.000335</td>\n",
       "    </tr>\n",
       "  </tbody>\n",
       "</table>\n",
       "</div>"
      ],
      "text/plain": [
       "     bistability  coexistence  dominance\n",
       "n                                       \n",
       "10      0.000166     0.000115   0.000253\n",
       "20      0.000470     0.000342   0.000223\n",
       "30      0.000076     0.000204   0.000533\n",
       "40      0.000206     0.000107   0.000746\n",
       "50      0.000217     0.000343   0.000183\n",
       "60      0.000322     0.000244   0.000277\n",
       "70      0.000321     0.000146   0.000302\n",
       "80      0.000258     0.000146   0.000402\n",
       "90      0.000294     0.000300   0.000227\n",
       "100     0.000625     0.000396   0.000335"
      ]
     },
     "execution_count": 10,
     "metadata": {},
     "output_type": "execute_result"
    }
   ],
   "source": [
    "df_stat_a = pd.DataFrame(kullback_a)\n",
    "df_stat_a.set_index(\"n\")"
   ]
  },
  {
   "cell_type": "code",
   "execution_count": 11,
   "metadata": {},
   "outputs": [
    {
     "data": {
      "text/plain": [
       "Text(0,0.5,'Kullback-Leibler divergence')"
      ]
     },
     "execution_count": 11,
     "metadata": {},
     "output_type": "execute_result"
    },
    {
     "data": {
      "image/png": "[encoded data removed]",
      "text/plain": [
       "<matplotlib.figure.Figure at 0x1a1170cd68>"
      ]
     },
     "metadata": {},
     "output_type": "display_data"
    }
   ],
   "source": [
    "fig, ax = plt.subplots()\n",
    "ax.plot(df_stat_a.loc[:,\"n\"], df_stat_a.loc[:,\"bistability\"], '-o', label='bistability')\n",
    "ax.plot(df_stat_a.loc[:,\"n\"], df_stat_a.loc[:,\"coexistence\"], '-o', label='coexistence')\n",
    "ax.plot(df_stat_a.loc[:,\"n\"], df_stat_a.loc[:,\"dominance\"], '-o', label='dominance')\n",
    "ax.legend()\n",
    "ax.set_yscale('log')\n",
    "plt.ylim([10**(-5),10**(0)])\n",
    "plt.xlabel(\"Population size\")\n",
    "plt.ylabel(\"Kullback-Leibler divergence\")"
   ]
  },
  {
   "cell_type": "code",
   "execution_count": null,
   "metadata": {},
   "outputs": [],
   "source": [
    "fig.savefig('../../../manuscript/Figures/accuracy_simulated_stationary_a.pdf')"
   ]
  },
  {
   "cell_type": "markdown",
   "metadata": {},
   "source": [
    "### b) beta = 1.0, mu = 0.1"
   ]
  },
  {
   "cell_type": "code",
   "execution_count": 12,
   "metadata": {},
   "outputs": [],
   "source": [
    "n_values = list(range(10, 101, 10))\n",
    "kullback_b = []\n",
    "for n in n_values:\n",
    "    #dominance\n",
    "    distr_sim_dom = estimate_stationary(pop_size=n, beta=1.0, a=0.0, b=1.0, c=1.0, d=0.0, r_0=100*n, epsilon=0.0001, k=10000*n, mu=0.1)\n",
    "    distr_direct_dom = direct_stationary(pop_size=n, beta=1.0, a=0.0, b=1.0, c=1.0, d=0.0, mu=0.1)\n",
    "    \n",
    "    #bistability\n",
    "    distr_sim_bistab = estimate_stationary(pop_size=n, beta=1.0, a=1.0, b=0.0, c=0.0, d=1.0, r_0=100*n, epsilon=0.0001, k=10000*n, mu=0.1)\n",
    "    distr_direct_bistab = direct_stationary(pop_size=n, beta=1.0, a=1.0, b=0.0, c=0.0, d=1.0, mu=0.1)\n",
    "    \n",
    "    #coexistence\n",
    "    distr_sim_coex = estimate_stationary(pop_size=n, beta=1.0, a=0.0, b=1.0, c=1.0, d=0.0, r_0=100*n, epsilon=0.0001, k=10000*n, mu=0.1)\n",
    "    distr_direct_coex = direct_stationary(pop_size=n, beta=1.0, a=0.0, b=1.0, c=1.0, d=0.0, mu=0.1)\n",
    "\n",
    "    \n",
    "    kullback_leibler_dom = entropy(distr_sim_dom, distr_direct_dom)\n",
    "    kullback_leibler_coex = entropy(distr_sim_coex, distr_direct_coex)\n",
    "    kullback_leibler_bistab = entropy(distr_sim_bistab, distr_direct_bistab)\n",
    "    \n",
    "    kullback_b.append({\"n\": n, \"dominance\": kullback_leibler_dom, \"coexistence\": kullback_leibler_coex, \"bistability\": kullback_leibler_bistab})"
   ]
  },
  {
   "cell_type": "code",
   "execution_count": 13,
   "metadata": {},
   "outputs": [
    {
     "data": {
      "text/html": [
       "<div>\n",
       "<style scoped>\n",
       "    .dataframe tbody tr th:only-of-type {\n",
       "        vertical-align: middle;\n",
       "    }\n",
       "\n",
       "    .dataframe tbody tr th {\n",
       "        vertical-align: top;\n",
       "    }\n",
       "\n",
       "    .dataframe thead th {\n",
       "        text-align: right;\n",
       "    }\n",
       "</style>\n",
       "<table border=\"1\" class=\"dataframe\">\n",
       "  <thead>\n",
       "    <tr style=\"text-align: right;\">\n",
       "      <th></th>\n",
       "      <th>bistability</th>\n",
       "      <th>coexistence</th>\n",
       "      <th>dominance</th>\n",
       "    </tr>\n",
       "    <tr>\n",
       "      <th>n</th>\n",
       "      <th></th>\n",
       "      <th></th>\n",
       "      <th></th>\n",
       "    </tr>\n",
       "  </thead>\n",
       "  <tbody>\n",
       "    <tr>\n",
       "      <th>10</th>\n",
       "      <td>0.000660</td>\n",
       "      <td>0.000114</td>\n",
       "      <td>0.000033</td>\n",
       "    </tr>\n",
       "    <tr>\n",
       "      <th>20</th>\n",
       "      <td>0.000387</td>\n",
       "      <td>0.000092</td>\n",
       "      <td>0.000111</td>\n",
       "    </tr>\n",
       "    <tr>\n",
       "      <th>30</th>\n",
       "      <td>0.000477</td>\n",
       "      <td>0.000173</td>\n",
       "      <td>0.000177</td>\n",
       "    </tr>\n",
       "    <tr>\n",
       "      <th>40</th>\n",
       "      <td>0.000290</td>\n",
       "      <td>0.000207</td>\n",
       "      <td>0.000188</td>\n",
       "    </tr>\n",
       "    <tr>\n",
       "      <th>50</th>\n",
       "      <td>0.004035</td>\n",
       "      <td>0.000233</td>\n",
       "      <td>0.000107</td>\n",
       "    </tr>\n",
       "    <tr>\n",
       "      <th>60</th>\n",
       "      <td>0.000747</td>\n",
       "      <td>0.000191</td>\n",
       "      <td>0.000214</td>\n",
       "    </tr>\n",
       "    <tr>\n",
       "      <th>70</th>\n",
       "      <td>0.000235</td>\n",
       "      <td>0.000284</td>\n",
       "      <td>0.000336</td>\n",
       "    </tr>\n",
       "    <tr>\n",
       "      <th>80</th>\n",
       "      <td>0.003281</td>\n",
       "      <td>0.000250</td>\n",
       "      <td>0.000280</td>\n",
       "    </tr>\n",
       "    <tr>\n",
       "      <th>90</th>\n",
       "      <td>0.002326</td>\n",
       "      <td>0.000559</td>\n",
       "      <td>0.000505</td>\n",
       "    </tr>\n",
       "    <tr>\n",
       "      <th>100</th>\n",
       "      <td>0.003747</td>\n",
       "      <td>0.000522</td>\n",
       "      <td>0.000474</td>\n",
       "    </tr>\n",
       "  </tbody>\n",
       "</table>\n",
       "</div>"
      ],
      "text/plain": [
       "     bistability  coexistence  dominance\n",
       "n                                       \n",
       "10      0.000660     0.000114   0.000033\n",
       "20      0.000387     0.000092   0.000111\n",
       "30      0.000477     0.000173   0.000177\n",
       "40      0.000290     0.000207   0.000188\n",
       "50      0.004035     0.000233   0.000107\n",
       "60      0.000747     0.000191   0.000214\n",
       "70      0.000235     0.000284   0.000336\n",
       "80      0.003281     0.000250   0.000280\n",
       "90      0.002326     0.000559   0.000505\n",
       "100     0.003747     0.000522   0.000474"
      ]
     },
     "execution_count": 13,
     "metadata": {},
     "output_type": "execute_result"
    }
   ],
   "source": [
    "df_stat_b = pd.DataFrame(kullback_b)\n",
    "df_stat_b.set_index(\"n\")"
   ]
  },
  {
   "cell_type": "code",
   "execution_count": 14,
   "metadata": {},
   "outputs": [
    {
     "data": {
      "text/plain": [
       "Text(0,0.5,'Kullback-Leibler divergence')"
      ]
     },
     "execution_count": 14,
     "metadata": {},
     "output_type": "execute_result"
    },
    {
     "data": {
      "image/png": "[encoded data removed]",
      "text/plain": [
       "<matplotlib.figure.Figure at 0x1a1a477cc0>"
      ]
     },
     "metadata": {},
     "output_type": "display_data"
    }
   ],
   "source": [
    "fig, ax = plt.subplots()\n",
    "ax.plot(df_stat_b.loc[:,\"n\"], df_stat_b.loc[:,\"bistability\"], '-o', label='bistability')\n",
    "ax.plot(df_stat_b.loc[:,\"n\"], df_stat_b.loc[:,\"coexistence\"], '-o', label='coexistence')\n",
    "ax.plot(df_stat_b.loc[:,\"n\"], df_stat_b.loc[:,\"dominance\"], '-o', label='dominance')\n",
    "ax.set_yscale('log')\n",
    "ax.legend()\n",
    "plt.ylim([10**(-5),10**(0)])\n",
    "#plt.ylim([0,0.1])\n",
    "plt.xlabel(\"Population size\")\n",
    "plt.ylabel(\"Kullback-Leibler divergence\")"
   ]
  },
  {
   "cell_type": "code",
   "execution_count": null,
   "metadata": {},
   "outputs": [],
   "source": [
    "fig.savefig('../../../manuscript/Figures/accuracy_simulated_stationary_b.pdf')"
   ]
  },
  {
   "cell_type": "markdown",
   "metadata": {},
   "source": [
    "### c) beta = 10.0, mu = 0.1"
   ]
  },
  {
   "cell_type": "code",
   "execution_count": 15,
   "metadata": {},
   "outputs": [],
   "source": [
    "kullback_c = []\n",
    "for n in n_values:\n",
    "    #dominance\n",
    "    distr_sim_dom = estimate_stationary(pop_size=n, beta=0.1, a=1.0, b=1.0, c=0.0, d=0.0, r_0=100*n, epsilon=0.0001, k=10000*n, mu=0.1)\n",
    "    distr_direct_dom = direct_stationary(pop_size=n, beta=0.1, a=1.0, b=1.0, c=0.0, d=0.0, mu=0.1)\n",
    "    \n",
    "    #bistability\n",
    "    distr_sim_bistab = estimate_stationary(pop_size=n, beta=10, a=1.0, b=0.0, c=0.0, d=1.0, r_0=100*n, epsilon=0.0001, k=10000*n, mu=0.1)\n",
    "    distr_direct_bistab = direct_stationary(pop_size=n, beta=10, a=1.0, b=0.0, c=0.0, d=1.0, mu=0.1)\n",
    "    \n",
    "    #coexistence\n",
    "    distr_sim_coex = estimate_stationary(pop_size=n, beta=10, a=0.0, b=1.0, c=1.0, d=0.0, r_0=100*n, epsilon=0.0001, k=10000*n, mu=0.1)\n",
    "    distr_direct_coex = direct_stationary(pop_size=n, beta=10, a=0.0, b=1.0, c=1.0, d=0.0, mu=0.1)\n",
    "    \n",
    "    kullback_leibler_dom = entropy(distr_sim_dom, distr_direct_dom)\n",
    "    kullback_leibler_coex = entropy(distr_sim_coex, distr_direct_coex)\n",
    "    kullback_leibler_bistab = entropy(distr_sim_bistab, distr_direct_bistab)\n",
    "    \n",
    "    kullback_c.append({\"n\": n, \"dominance\": kullback_leibler_dom, \"coexistence\": kullback_leibler_coex, \"bistability\": kullback_leibler_bistab})"
   ]
  },
  {
   "cell_type": "code",
   "execution_count": 16,
   "metadata": {},
   "outputs": [
    {
     "data": {
      "text/html": [
       "<div>\n",
       "<style scoped>\n",
       "    .dataframe tbody tr th:only-of-type {\n",
       "        vertical-align: middle;\n",
       "    }\n",
       "\n",
       "    .dataframe tbody tr th {\n",
       "        vertical-align: top;\n",
       "    }\n",
       "\n",
       "    .dataframe thead th {\n",
       "        text-align: right;\n",
       "    }\n",
       "</style>\n",
       "<table border=\"1\" class=\"dataframe\">\n",
       "  <thead>\n",
       "    <tr style=\"text-align: right;\">\n",
       "      <th></th>\n",
       "      <th>bistability</th>\n",
       "      <th>coexistence</th>\n",
       "      <th>dominance</th>\n",
       "    </tr>\n",
       "    <tr>\n",
       "      <th>n</th>\n",
       "      <th></th>\n",
       "      <th></th>\n",
       "      <th></th>\n",
       "    </tr>\n",
       "  </thead>\n",
       "  <tbody>\n",
       "    <tr>\n",
       "      <th>10</th>\n",
       "      <td>0.000119</td>\n",
       "      <td>0.000102</td>\n",
       "      <td>0.000487</td>\n",
       "    </tr>\n",
       "    <tr>\n",
       "      <th>20</th>\n",
       "      <td>0.005982</td>\n",
       "      <td>0.000098</td>\n",
       "      <td>0.000475</td>\n",
       "    </tr>\n",
       "    <tr>\n",
       "      <th>30</th>\n",
       "      <td>0.693189</td>\n",
       "      <td>0.000228</td>\n",
       "      <td>0.000319</td>\n",
       "    </tr>\n",
       "    <tr>\n",
       "      <th>40</th>\n",
       "      <td>0.693209</td>\n",
       "      <td>0.000339</td>\n",
       "      <td>0.000360</td>\n",
       "    </tr>\n",
       "    <tr>\n",
       "      <th>50</th>\n",
       "      <td>0.693283</td>\n",
       "      <td>0.000219</td>\n",
       "      <td>0.001014</td>\n",
       "    </tr>\n",
       "    <tr>\n",
       "      <th>60</th>\n",
       "      <td>0.693180</td>\n",
       "      <td>0.000649</td>\n",
       "      <td>0.000365</td>\n",
       "    </tr>\n",
       "    <tr>\n",
       "      <th>70</th>\n",
       "      <td>0.693373</td>\n",
       "      <td>0.000834</td>\n",
       "      <td>0.000263</td>\n",
       "    </tr>\n",
       "    <tr>\n",
       "      <th>80</th>\n",
       "      <td>0.693242</td>\n",
       "      <td>0.000714</td>\n",
       "      <td>0.000284</td>\n",
       "    </tr>\n",
       "    <tr>\n",
       "      <th>90</th>\n",
       "      <td>0.693239</td>\n",
       "      <td>0.001199</td>\n",
       "      <td>0.000634</td>\n",
       "    </tr>\n",
       "    <tr>\n",
       "      <th>100</th>\n",
       "      <td>0.693277</td>\n",
       "      <td>0.000942</td>\n",
       "      <td>0.000435</td>\n",
       "    </tr>\n",
       "  </tbody>\n",
       "</table>\n",
       "</div>"
      ],
      "text/plain": [
       "     bistability  coexistence  dominance\n",
       "n                                       \n",
       "10      0.000119     0.000102   0.000487\n",
       "20      0.005982     0.000098   0.000475\n",
       "30      0.693189     0.000228   0.000319\n",
       "40      0.693209     0.000339   0.000360\n",
       "50      0.693283     0.000219   0.001014\n",
       "60      0.693180     0.000649   0.000365\n",
       "70      0.693373     0.000834   0.000263\n",
       "80      0.693242     0.000714   0.000284\n",
       "90      0.693239     0.001199   0.000634\n",
       "100     0.693277     0.000942   0.000435"
      ]
     },
     "execution_count": 16,
     "metadata": {},
     "output_type": "execute_result"
    }
   ],
   "source": [
    "df_stat_c = pd.DataFrame(kullback_c)\n",
    "df_stat_c.set_index(\"n\")"
   ]
  },
  {
   "cell_type": "code",
   "execution_count": 17,
   "metadata": {},
   "outputs": [
    {
     "data": {
      "text/plain": [
       "Text(0,0.5,'Kullback-Leibler divergence')"
      ]
     },
     "execution_count": 17,
     "metadata": {},
     "output_type": "execute_result"
    },
    {
     "data": {
      "image/png": "[encoded data removed]",
      "text/plain": [
       "<matplotlib.figure.Figure at 0x1a1af5dac8>"
      ]
     },
     "metadata": {},
     "output_type": "display_data"
    }
   ],
   "source": [
    "fig, ax = plt.subplots()\n",
    "ax.plot(df_stat_c.loc[:,\"n\"], df_stat_c.loc[:,\"bistability\"], '-o', label='bistability')\n",
    "ax.plot(df_stat_c.loc[:,\"n\"], df_stat_c.loc[:,\"coexistence\"], '-o', label='coexistence')\n",
    "ax.plot(df_stat_c.loc[:,\"n\"], df_stat_c.loc[:,\"dominance\"], '-o', label='dominance')\n",
    "ax.legend()\n",
    "ax.set_yscale('log')\n",
    "plt.ylim([10**(-5),10**(0)])\n",
    "plt.xlabel(\"Population size\")\n",
    "plt.ylabel(\"Kullback-Leibler divergence\")"
   ]
  },
  {
   "cell_type": "code",
   "execution_count": null,
   "metadata": {},
   "outputs": [],
   "source": [
    "fig.savefig('../../../manuscript/Figures/accuracy_simulated_stationary_c.pdf')"
   ]
  },
  {
   "cell_type": "markdown",
   "metadata": {},
   "source": [
    "### d) beta = 10.0, mu = 0.5"
   ]
  },
  {
   "cell_type": "code",
   "execution_count": 18,
   "metadata": {},
   "outputs": [],
   "source": [
    "kullback_d = []\n",
    "for n in n_values:\n",
    "    #dominance\n",
    "    distr_sim_dom = estimate_stationary(pop_size=n, beta=10, a=1.0, b=1.0, c=0.0, d=0.0, r_0=100*n, epsilon=0.0001, k=10000*n, mu=0.5)\n",
    "    distr_direct_dom = direct_stationary(pop_size=n, beta=10, a=1.0, b=1.0, c=0.0, d=0.0, mu=0.5)\n",
    "    \n",
    "    #bistability\n",
    "    distr_sim_bistab = estimate_stationary(pop_size=n, beta=10, a=1.0, b=0.0, c=0.0, d=1.0, r_0=100*n, epsilon=0.0001, k=10000*n, mu=0.5)\n",
    "    distr_direct_bistab = direct_stationary(pop_size=n, beta=10, a=1.0, b=0.0, c=0.0, d=1.0, mu=0.5)\n",
    "    \n",
    "    #coexistence\n",
    "    distr_sim_coex = estimate_stationary(pop_size=n, beta=10, a=0.0, b=1.0, c=1.0, d=0.0, r_0=100*n, epsilon=0.0001, k=10000*n, mu=0.5)\n",
    "    distr_direct_coex = direct_stationary(pop_size=n, beta=10, a=0.0, b=1.0, c=1.0, d=0.0, mu=0.5)\n",
    "    \n",
    "    kullback_leibler_dom = entropy(distr_sim_dom, distr_direct_dom)\n",
    "    kullback_leibler_coex = entropy(distr_sim_coex, distr_direct_coex)\n",
    "    kullback_leibler_bistab = entropy(distr_sim_bistab, distr_direct_bistab)\n",
    "    \n",
    "    kullback_d.append({\"n\": n, \"dominance\": kullback_leibler_dom, \"coexistence\": kullback_leibler_coex, \"bistability\": kullback_leibler_bistab})\n"
   ]
  },
  {
   "cell_type": "code",
   "execution_count": 19,
   "metadata": {},
   "outputs": [
    {
     "data": {
      "text/html": [
       "<div>\n",
       "<style scoped>\n",
       "    .dataframe tbody tr th:only-of-type {\n",
       "        vertical-align: middle;\n",
       "    }\n",
       "\n",
       "    .dataframe tbody tr th {\n",
       "        vertical-align: top;\n",
       "    }\n",
       "\n",
       "    .dataframe thead th {\n",
       "        text-align: right;\n",
       "    }\n",
       "</style>\n",
       "<table border=\"1\" class=\"dataframe\">\n",
       "  <thead>\n",
       "    <tr style=\"text-align: right;\">\n",
       "      <th></th>\n",
       "      <th>bistability</th>\n",
       "      <th>coexistence</th>\n",
       "      <th>dominance</th>\n",
       "    </tr>\n",
       "    <tr>\n",
       "      <th>n</th>\n",
       "      <th></th>\n",
       "      <th></th>\n",
       "      <th></th>\n",
       "    </tr>\n",
       "  </thead>\n",
       "  <tbody>\n",
       "    <tr>\n",
       "      <th>10</th>\n",
       "      <td>0.000075</td>\n",
       "      <td>0.000041</td>\n",
       "      <td>0.000043</td>\n",
       "    </tr>\n",
       "    <tr>\n",
       "      <th>20</th>\n",
       "      <td>0.000065</td>\n",
       "      <td>0.000129</td>\n",
       "      <td>0.000114</td>\n",
       "    </tr>\n",
       "    <tr>\n",
       "      <th>30</th>\n",
       "      <td>0.000158</td>\n",
       "      <td>0.000148</td>\n",
       "      <td>0.000198</td>\n",
       "    </tr>\n",
       "    <tr>\n",
       "      <th>40</th>\n",
       "      <td>0.000082</td>\n",
       "      <td>0.000172</td>\n",
       "      <td>0.000392</td>\n",
       "    </tr>\n",
       "    <tr>\n",
       "      <th>50</th>\n",
       "      <td>0.000219</td>\n",
       "      <td>0.000287</td>\n",
       "      <td>0.000299</td>\n",
       "    </tr>\n",
       "    <tr>\n",
       "      <th>60</th>\n",
       "      <td>0.000135</td>\n",
       "      <td>0.000197</td>\n",
       "      <td>0.000300</td>\n",
       "    </tr>\n",
       "    <tr>\n",
       "      <th>70</th>\n",
       "      <td>0.000306</td>\n",
       "      <td>0.000643</td>\n",
       "      <td>0.000228</td>\n",
       "    </tr>\n",
       "    <tr>\n",
       "      <th>80</th>\n",
       "      <td>0.000403</td>\n",
       "      <td>0.000355</td>\n",
       "      <td>0.000372</td>\n",
       "    </tr>\n",
       "    <tr>\n",
       "      <th>90</th>\n",
       "      <td>0.000466</td>\n",
       "      <td>0.001209</td>\n",
       "      <td>0.000258</td>\n",
       "    </tr>\n",
       "    <tr>\n",
       "      <th>100</th>\n",
       "      <td>0.000324</td>\n",
       "      <td>0.000461</td>\n",
       "      <td>0.000577</td>\n",
       "    </tr>\n",
       "  </tbody>\n",
       "</table>\n",
       "</div>"
      ],
      "text/plain": [
       "     bistability  coexistence  dominance\n",
       "n                                       \n",
       "10      0.000075     0.000041   0.000043\n",
       "20      0.000065     0.000129   0.000114\n",
       "30      0.000158     0.000148   0.000198\n",
       "40      0.000082     0.000172   0.000392\n",
       "50      0.000219     0.000287   0.000299\n",
       "60      0.000135     0.000197   0.000300\n",
       "70      0.000306     0.000643   0.000228\n",
       "80      0.000403     0.000355   0.000372\n",
       "90      0.000466     0.001209   0.000258\n",
       "100     0.000324     0.000461   0.000577"
      ]
     },
     "execution_count": 19,
     "metadata": {},
     "output_type": "execute_result"
    }
   ],
   "source": [
    "df_stat_d = pd.DataFrame(kullback_d)\n",
    "df_stat_d.set_index(\"n\")"
   ]
  },
  {
   "cell_type": "code",
   "execution_count": 20,
   "metadata": {},
   "outputs": [
    {
     "data": {
      "text/plain": [
       "Text(0,0.5,'Kullback-Leibler divergence')"
      ]
     },
     "execution_count": 20,
     "metadata": {},
     "output_type": "execute_result"
    },
    {
     "data": {
      "image/png": "[encoded data removed]",
      "text/plain": [
       "<matplotlib.figure.Figure at 0x1a1b2850b8>"
      ]
     },
     "metadata": {},
     "output_type": "display_data"
    }
   ],
   "source": [
    "fig, ax = plt.subplots()\n",
    "ax.plot(df_stat_d.loc[:,\"n\"], df_stat_d.loc[:,\"bistability\"], '-o', label='bistability')\n",
    "ax.plot(df_stat_d.loc[:,\"n\"], df_stat_d.loc[:,\"coexistence\"], '-o', label='coexistence')\n",
    "ax.plot(df_stat_d.loc[:,\"n\"], df_stat_d.loc[:,\"dominance\"], '-o', label='dominance')\n",
    "ax.legend()\n",
    "ax.set_yscale('log')\n",
    "plt.ylim([10**(-5),10**(0)])\n",
    "plt.xlabel(\"Population size\")\n",
    "plt.ylabel(\"Kullback-Leibler divergence\")"
   ]
  },
  {
   "cell_type": "code",
   "execution_count": null,
   "metadata": {},
   "outputs": [],
   "source": [
    "fig.savefig('../../../manuscript/Figures/accuracy_simulated_stationary_d.pdf')"
   ]
  }
 ],
 "metadata": {
  "kernelspec": {
   "display_name": "Python 3",
   "language": "python",
   "name": "python3"
  },
  "language_info": {
   "codemirror_mode": {
    "name": "ipython",
    "version": 3
   },
   "file_extension": ".py",
   "mimetype": "text/x-python",
   "name": "python",
   "nbconvert_exporter": "python",
   "pygments_lexer": "ipython3",
   "version": "3.6.4"
  }
 },
 "nbformat": 4,
 "nbformat_minor": 2
}
